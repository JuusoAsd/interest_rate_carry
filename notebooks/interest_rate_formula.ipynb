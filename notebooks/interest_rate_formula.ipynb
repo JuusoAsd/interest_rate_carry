{
 "cells": [
  {
   "cell_type": "code",
   "execution_count": 21,
   "metadata": {},
   "outputs": [],
   "source": [
    "import os\n",
    "import sys\n",
    "\n",
    "from dotenv import dotenv_values\n",
    "from web3 import Web3\n",
    "import requests\n",
    "import json\n",
    "from pprint import pprint"
   ]
  },
  {
   "cell_type": "code",
   "execution_count": 22,
   "metadata": {},
   "outputs": [],
   "source": [
    "conf = dotenv_values(dotenv_path='../.env')\n",
    "web3 = Web3(Web3.HTTPProvider(f\"https://mainnet.infura.io/v3/{conf['infura']}\"))"
   ]
  },
  {
   "cell_type": "code",
   "execution_count": 23,
   "metadata": {},
   "outputs": [],
   "source": [
    "# helper functions for ABIs and reading what contract contains\n",
    "\n",
    "def get_abi(address):\n",
    "    r = requests.get(\n",
    "                (\"https://api.etherscan.io/api\"\n",
    "                    \"?module=contract\"\n",
    "                    \"&action=getabi\"\n",
    "                    f\"&address={address}\"\n",
    "                    f\"&apikey={conf['etherscan']}\")\n",
    "                    )\n",
    "        \n",
    "    return r.json()['result']\n",
    "\n",
    "def contract_functions(contract):\n",
    "    print(*contract.functions, sep='\\n')"
   ]
  },
  {
   "cell_type": "code",
   "execution_count": 24,
   "metadata": {},
   "outputs": [
    {
     "name": "stdout",
     "output_type": "stream",
     "text": [
      "_editAdminWhitelist\n",
      "_editDeployerWhitelist\n",
      "_setDeployerWhitelistEnforcement\n",
      "adminWhitelist\n",
      "bookmarkPool\n",
      "deployPool\n",
      "deployerWhitelist\n",
      "enforceDeployerWhitelist\n",
      "getAllPools\n",
      "getBookmarks\n",
      "getPoolsByAccount\n",
      "getPublicPools\n",
      "getPublicPoolsByVerification\n",
      "initialize\n",
      "owner\n",
      "poolExists\n",
      "pools\n",
      "renounceOwnership\n",
      "setPoolName\n",
      "transferOwnership\n"
     ]
    }
   ],
   "source": [
    "# start from fuse pool directory and implementation\n",
    "\n",
    "directory_address = '0x835482FE0532f169024d5E9410199369aAD5C77E'\n",
    "directory_implementation = '0xd662efb05e8cafe35d1558b8b5323c73e2919abd'\n",
    "directory_contract = web3.eth.contract(directory_address, abi = get_abi(directory_implementation))\n",
    "\n",
    "contract_functions(directory_contract)"
   ]
  },
  {
   "cell_type": "code",
   "execution_count": 25,
   "metadata": {},
   "outputs": [
    {
     "data": {
      "text/plain": [
       "(\"Tetranode's Pool\",\n",
       " '0x4702D39c499236A43654c54783c3f24830E247dC',\n",
       " '0x814b02C1ebc9164972D888495927fe1697F0Fb4c',\n",
       " 12149219,\n",
       " 1617221487)"
      ]
     },
     "execution_count": 25,
     "metadata": {},
     "output_type": "execute_result"
    }
   ],
   "source": [
    "# Directory contains list of all created pools, choose the one with most assets\n",
    "\n",
    "pools = directory_contract.functions.getAllPools().call()\n",
    "pool = pools[6]\n",
    "pool"
   ]
  },
  {
   "cell_type": "code",
   "execution_count": 26,
   "metadata": {},
   "outputs": [
    {
     "name": "stdout",
     "output_type": "stream",
     "text": [
      "_acceptAdmin\n",
      "_acceptImplementation\n",
      "_renounceAdminRights\n",
      "_renounceFuseAdminRights\n",
      "_setPendingAdmin\n",
      "_setPendingImplementation\n",
      "admin\n",
      "adminHasRights\n",
      "comptrollerImplementation\n",
      "fuseAdminHasRights\n",
      "pendingAdmin\n",
      "pendingComptrollerImplementation\n",
      "0x94B2200d28932679DEF4A7d08596A229553a994E\n"
     ]
    },
    {
     "data": {
      "text/plain": [
       "['0x989273ec41274C4227bCB878C2c26fdd3afbE70d',\n",
       " '0x558a7A68C574D83f327E7008c63A86613Ea48B4f',\n",
       " '0x325e3257286EB040AABB1128c21a55cF82e25901',\n",
       " '0x2130528060141222F0614ff80A756A3B2A24fE59',\n",
       " '0xAD1716680024F6F9AEA57Ad28b8C4Ecd2f5670CC',\n",
       " '0xdb55B77F5E8a1a41931684Cf9e4881D24E6b6CC9',\n",
       " '0x8691927a91A032c23B895130074669f52CF6b1e7',\n",
       " '0x59Bd6774C22486D9F4FAb2D448dCe4F892a9Ae25',\n",
       " '0xF6551C22276b9Bf62FaD09f6bD6Cad0264b89789',\n",
       " '0xcA56Af76B656212d768842246bF4893b56C02ABc',\n",
       " '0x1531C1a63A169aC75A2dAAe399080745fa51dE44',\n",
       " '0x185Ab80A77D362447415a5B347D7CD86ecaCC87C',\n",
       " '0xf65155C9595F99BFC193CaFF0AAb6e2a98cf68aE',\n",
       " '0xf9f0EFFE60F56e6846505501903AD047B8011C3e',\n",
       " '0xC12b58D31b97DBd7F092db5cc69ad321a0AD747E',\n",
       " '0xF317379B10D370Fec6B8103Ef2da5007d1890def',\n",
       " '0xE33928B720799127A052B65498b322A206351441',\n",
       " '0xeb37cE0DB663A742Df93E23EA7ba78016e82BE39']"
      ]
     },
     "execution_count": 26,
     "metadata": {},
     "output_type": "execute_result"
    }
   ],
   "source": [
    "# create the pool contract object\n",
    "\n",
    "pool_address = pool[2]\n",
    "pool_contract = web3.eth.contract(pool_address, abi=get_abi(pool_address))\n",
    "contract_functions(pool_contract)\n",
    "\n",
    "pool_implementation= pool_contract.functions.comptrollerImplementation().call()\n",
    "print(pool_implementation)\n",
    "pool_true = web3.eth.contract(pool_address, abi=get_abi(pool_implementation))\n",
    "\n",
    "# find the markets that the pool contains\n",
    "markets = pool_true.functions.getAllMarkets().call()\n",
    "markets"
   ]
  },
  {
   "cell_type": "code",
   "execution_count": 27,
   "metadata": {},
   "outputs": [
    {
     "name": "stdout",
     "output_type": "stream",
     "text": [
      "_acceptAdmin\n",
      "_addReserves\n",
      "_becomeImplementation\n",
      "_reduceReserves\n",
      "_renounceAdminRights\n",
      "_renounceFuseAdminRights\n",
      "_resignImplementation\n",
      "_setAdminFee\n",
      "_setComptroller\n",
      "_setFuseFee\n",
      "_setInterestRateModel\n",
      "_setPendingAdmin\n",
      "_setReserveFactor\n",
      "_withdrawAdminFees\n",
      "_withdrawFuseFees\n",
      "accrualBlockNumber\n",
      "accrueInterest\n",
      "admin\n",
      "adminFeeMantissa\n",
      "adminHasRights\n",
      "allowance\n",
      "approve\n",
      "balanceOf\n",
      "balanceOfUnderlying\n",
      "borrow\n",
      "borrowBalanceCurrent\n",
      "borrowBalanceStored\n",
      "borrowIndex\n",
      "borrowRatePerBlock\n",
      "comptroller\n",
      "decimals\n",
      "exchangeRateCurrent\n",
      "exchangeRateStored\n",
      "fuseAdminHasRights\n",
      "fuseFeeMantissa\n",
      "getAccountSnapshot\n",
      "getCash\n",
      "implementation\n",
      "initialize\n",
      "initialize\n",
      "interestRateModel\n",
      "isCEther\n",
      "isCToken\n",
      "liquidateBorrow\n",
      "mint\n",
      "name\n",
      "pendingAdmin\n",
      "redeem\n",
      "redeemUnderlying\n",
      "repayBorrow\n",
      "repayBorrowBehalf\n",
      "reserveFactorMantissa\n",
      "seize\n",
      "supplyRatePerBlock\n",
      "symbol\n",
      "totalAdminFees\n",
      "totalBorrows\n",
      "totalBorrowsCurrent\n",
      "totalFuseFees\n",
      "totalReserves\n",
      "totalSupply\n",
      "transfer\n",
      "transferFrom\n",
      "underlying\n"
     ]
    }
   ],
   "source": [
    "# choose dai market and create the contract object\n",
    "\n",
    "dai = markets[0]\n",
    "dai_contract = web3.eth.contract(dai, abi=get_abi(dai))\n",
    "\n",
    "dai_implementation = dai_contract.functions.implementation().call()\n",
    "dai_true = web3.eth.contract(dai, abi=get_abi(dai_implementation))\n",
    "\n",
    "contract_functions(dai_true)"
   ]
  },
  {
   "cell_type": "code",
   "execution_count": 32,
   "metadata": {},
   "outputs": [
    {
     "name": "stdout",
     "output_type": "stream",
     "text": [
      "25858710540976168457875505 37676543849924005103593260\n",
      "54016560261 100584182779\n",
      "13.670280628648591 26.941732739493606\n"
     ]
    }
   ],
   "source": [
    "# each market also has information and supplied and borrowed assets\n",
    "supply = dai_true.functions.totalSupply().call()\n",
    "borrows = dai_true.functions.totalBorrows().call()\n",
    "\n",
    "# this information is fed to interest rate model to get supply/borrowRatePerBlock\n",
    "supply_per_block = dai_true.functions.supplyRatePerBlock().call()\n",
    "borrow_per_block = dai_true.functions.borrowRatePerBlock().call()\n",
    "\n",
    "# supply and borrow rate per block are converted into annualized return by formula given in docs:\n",
    "# https://docs.rari.capital/fuse/#calculating-the-apy-using-rate-per-block\n",
    "eth_mant = 1 * 10 ** 18\n",
    "days_per_year = 365\n",
    "blocks_per_day = 6500\n",
    "\n",
    "def rate_to_apy(pool_rate):\n",
    "    # supply/borrow_apy = ((((supply_per_block / eth_mant) * blocks_per_day + 1) ** day_per_year) - 1) * 100\n",
    "    decimal_conversion = pool_rate / eth_mant\n",
    "    per_day = decimal_conversion * blocks_per_day + 1\n",
    "    annualized = per_day ** days_per_year\n",
    "    percentage = (annualized - 1) * 100\n",
    "    return percentage\n",
    "\n",
    "print(borrows, supply)\n",
    "print(supply_per_block, borrow_per_block)\n",
    "print(rate_to_apy(supply_per_block), rate_to_apy(borrow_per_block))\n",
    "\n",
    "# Numbers match that of the UI"
   ]
  },
  {
   "cell_type": "code",
   "execution_count": 78,
   "metadata": {},
   "outputs": [],
   "source": [
    "# initialize the interets rate contract\n",
    "interest_rate_address = dai_true.functions.interestRateModel().call()\n",
    "interest_rate_contract = web3.eth.contract(interest_rate_address, abi = get_abi(interest_rate_address))"
   ]
  },
  {
   "cell_type": "markdown",
   "metadata": {},
   "source": [
    "# Modelling interest rates\n",
    "To model how much capital can be deployed while keeping rates somewhat profitable, we need to see how supply/demandRatePerBlock are created. Knowing the inputs for interest rate calculation, we can then see how depositing or borrowing x amount from the pool changes the interest rates. \n",
    "\n",
    "Working with DAI market, the current market balances can be found here:\n",
    "\n",
    "Contract: ```https://etherscan.io/address/0x989273ec41274C4227bCB878C2c26fdd3afbE70d#readProxyContract```\n",
    "\n",
    "Implementation: ```https://etherscan.io/address/0x67e70eeb9dd170f7b4a9ef620720c9069d5e706c#code```\n",
    "\n",
    "Each market can have a separate implementation for interest rate calculation. For DAI market in this pool it is found here:\n",
    "\n",
    "```https://etherscan.io/address/0x67e70eeb9dd170f7b4a9ef620720c9069d5e706c#code```\n",
    "\n",
    "As shown above, the annualized interest rate shown in UI is derived from ```supplyRatePerBlock``` and ```borrowRatePerBlock```. Calculating these is done by the interestRateModel, specifically functions ```interestRateModel.getSupplyRate()``` and ```interestRateModel.getBorrowRate()```, which are called from the market contract.\n",
    "\n",
    "\n",
    "## interestRateModel.getSupplyRate()\n",
    "\n",
    "When called from the market contract, getSupplyRate() has the following inputs.\n",
    "\n",
    "- ```getCashPrior()```\n",
    "\n",
    "- ```totalBorrows```\n",
    "\n",
    "- ```totalReserves``` + ```totalFuseFees``` + ```totalAdminFees```\n",
    "\n",
    "- ```reserveFactorMantissa``` + ```fuseFeeMantissa```+ ```adminFeeMantissa```\n",
    "\n",
    "```getCashPrior()``` is a function in the market contract which returns how much funds there are in terms of underlying in the contract. It can be called by using ```market.getCash()```\n",
    "\n",
    "```totalBorrows``` is a value in the contract which can be read through ```totalBorrowsCurrent```. The function has a call to ```accrueInterest```, which again calls ```finishInterestAccrual```. This means that ```totalBorrows``` returned by the function is not updated and we must calculate the small update happened since last interest paid event. Therefore calculating ```totalBorrows```:\n",
    "\n",
    "- ```blockDelta = currentBlockNumber - accrualBlockNumber()```\n",
    "- ```borrowRateMantissa = interestRateModel.getBorrowRate(getCash(), totalBorrowsCurrent(), totalReserves + totalFuseFees + totalAdminFees)```\n",
    "- ```simpleInterestFactor = borrowRateMantissa * blockDelta```\n",
    "- ```interestAccumulated = totalBorrowsCurrent() * simpleInterestFactor```\n",
    "- ```totalBorrowsNew = totalBorrowsCurrent() + interestAccumulated```\n",
    "\n",
    "```totalReserves``` is updated when ```totalBorrows``` is updated. Calculated as follows:\n",
    "- ```reserveFactor = reserveFactorMantissa()```\n",
    "- ```totalReserves = totalReserves()```\n",
    "- ```totalReservesNew = interestAccumulated * reserveFactor + totalReserves```\n",
    "\n",
    "```totalFuseFees``` is updated when ```totalBorrows``` is updated. Calculated as follows:\n",
    "- ```fuseFee = fuseFeeMantissa()```\n",
    "- ```totalFuseFees = totalFuseFees()```\n",
    "- ```totalFuseFeesNew = interestAccumulated * fuseFee + totalFuseFees```\n",
    "\n",
    "```totalAdminFeesNew``` is updated when ```totalBorrows``` is updated. Calculated as follows:\n",
    "- ```fuseFee = reserveFactorMantissa()```\n",
    "- ```totalFuseFees = totalFuseFees()```\n",
    "- ```totalFuseFeesNew = interestAccumulated * fuseFee + totalFuseFees```\n",
    "\n",
    "\n",
    "# PROBLEM\n",
    "currently some of the new numbers are calculated wrong. They all use some mantissa (liukuluku/merkitseva numero) thing and im not yet sure how they work. Reference in compound docs ```https://github.com/compound-finance/compound-protocol/blob/master/contracts/Exponential.sol```\n",
    "\n",
    "## interestRateModel.getBorrowRate()\n",
    "\n",
    "``````\n",
    "\n",
    "And the important functions are:\n",
    "\n",
    "```interestRateModel.getSupplyRate();``` which has inputs: \n",
    "```getCashPrior(), totalBorrow, totalReserves + totalFuseFees + totalAdminFees, reserveFactorMantissa + fuseFeeMantissa + adminFeeMantissa```\n",
    "\n",
    "\n",
    "- ```getCashPrior``` getCash()\n",
    "\n",
    "- ```totalBorrow``` totalBorrowsCurrent()\n",
    "\n",
    "- ```totalReserves``` totalReserves()\n",
    "\n",
    "- ```totalFuseFees``` totalFuseFees()\n",
    "\n",
    "- ```totalAdminFees``` totalAdminFees()\n",
    "\n",
    "- ```reserveFactorMantissa``` reserveFactorMantissa()\n",
    "\n",
    "- ```fuseFeeMantissa``` fuseFeeMantissa()\n",
    "\n",
    "- ```adminFeeMantissa``` adminFeeMantissa()\n",
    "\n",
    "and \n",
    "```interestRateModel.getBorrowRate();```\n",
    "Inputs:\n",
    "```getCashPrior(), totalBorrows, totalReserves + totalFuseFees + totalAdminFees```"
   ]
  },
  {
   "cell_type": "code",
   "execution_count": 91,
   "metadata": {},
   "outputs": [
    {
     "name": "stdout",
     "output_type": "stream",
     "text": [
      "borrows 27743656882061983819879821 197523341677341999104\n",
      "reserves 197523341677341999104 0 27737236040679707770412\n",
      "fuse fee 197523341677341999104 100000000000000000 101391384061277946771781\n",
      "admin 197523341677341999104 0 0\n",
      "19042934921401911333266705 27743854405403661161878925 19752334167734329039020101957654542193 100000000000000000\n"
     ]
    },
    {
     "ename": "ContractLogicError",
     "evalue": "execution reverted: SafeMath: subtraction underflow",
     "output_type": "error",
     "traceback": [
      "\u001b[0;31m---------------------------------------------------------------------------\u001b[0m",
      "\u001b[0;31mContractLogicError\u001b[0m                        Traceback (most recent call last)",
      "\u001b[0;32m/tmp/ipykernel_33759/1302416141.py\u001b[0m in \u001b[0;36m<module>\u001b[0;34m\u001b[0m\n\u001b[1;32m     68\u001b[0m )\n\u001b[1;32m     69\u001b[0m \u001b[0;34m\u001b[0m\u001b[0m\n\u001b[0;32m---> 70\u001b[0;31m calculated_rate_supply = interest_rate_contract.functions.getSupplyRate(\n\u001b[0m\u001b[1;32m     71\u001b[0m     \u001b[0mcash_prior\u001b[0m\u001b[0;34m,\u001b[0m\u001b[0;34m\u001b[0m\u001b[0;34m\u001b[0m\u001b[0m\n\u001b[1;32m     72\u001b[0m     \u001b[0mtotal_borrows_new\u001b[0m\u001b[0;34m,\u001b[0m\u001b[0;34m\u001b[0m\u001b[0;34m\u001b[0m\u001b[0m\n",
      "\u001b[0;32m~/Documents/trading/interest_rate_carry/venv/lib/python3.9/site-packages/web3/contract.py\u001b[0m in \u001b[0;36mcall\u001b[0;34m(self, transaction, block_identifier, state_override)\u001b[0m\n\u001b[1;32m    955\u001b[0m         \u001b[0mblock_id\u001b[0m \u001b[0;34m=\u001b[0m \u001b[0mparse_block_identifier\u001b[0m\u001b[0;34m(\u001b[0m\u001b[0mself\u001b[0m\u001b[0;34m.\u001b[0m\u001b[0mweb3\u001b[0m\u001b[0;34m,\u001b[0m \u001b[0mblock_identifier\u001b[0m\u001b[0;34m)\u001b[0m\u001b[0;34m\u001b[0m\u001b[0;34m\u001b[0m\u001b[0m\n\u001b[1;32m    956\u001b[0m \u001b[0;34m\u001b[0m\u001b[0m\n\u001b[0;32m--> 957\u001b[0;31m         return call_contract_function(\n\u001b[0m\u001b[1;32m    958\u001b[0m             \u001b[0mself\u001b[0m\u001b[0;34m.\u001b[0m\u001b[0mweb3\u001b[0m\u001b[0;34m,\u001b[0m\u001b[0;34m\u001b[0m\u001b[0;34m\u001b[0m\u001b[0m\n\u001b[1;32m    959\u001b[0m             \u001b[0mself\u001b[0m\u001b[0;34m.\u001b[0m\u001b[0maddress\u001b[0m\u001b[0;34m,\u001b[0m\u001b[0;34m\u001b[0m\u001b[0;34m\u001b[0m\u001b[0m\n",
      "\u001b[0;32m~/Documents/trading/interest_rate_carry/venv/lib/python3.9/site-packages/web3/contract.py\u001b[0m in \u001b[0;36mcall_contract_function\u001b[0;34m(web3, address, normalizers, function_identifier, transaction, block_id, contract_abi, fn_abi, state_override, *args, **kwargs)\u001b[0m\n\u001b[1;32m   1499\u001b[0m     )\n\u001b[1;32m   1500\u001b[0m \u001b[0;34m\u001b[0m\u001b[0m\n\u001b[0;32m-> 1501\u001b[0;31m     return_data = web3.eth.call(\n\u001b[0m\u001b[1;32m   1502\u001b[0m         \u001b[0mcall_transaction\u001b[0m\u001b[0;34m,\u001b[0m\u001b[0;34m\u001b[0m\u001b[0;34m\u001b[0m\u001b[0m\n\u001b[1;32m   1503\u001b[0m         \u001b[0mblock_identifier\u001b[0m\u001b[0;34m=\u001b[0m\u001b[0mblock_id\u001b[0m\u001b[0;34m,\u001b[0m\u001b[0;34m\u001b[0m\u001b[0;34m\u001b[0m\u001b[0m\n",
      "\u001b[0;32m~/Documents/trading/interest_rate_carry/venv/lib/python3.9/site-packages/web3/module.py\u001b[0m in \u001b[0;36mcaller\u001b[0;34m(*args, **kwargs)\u001b[0m\n\u001b[1;32m     55\u001b[0m             \u001b[0;32mreturn\u001b[0m \u001b[0mLogFilter\u001b[0m\u001b[0;34m(\u001b[0m\u001b[0meth_module\u001b[0m\u001b[0;34m=\u001b[0m\u001b[0mmodule\u001b[0m\u001b[0;34m,\u001b[0m \u001b[0mfilter_id\u001b[0m\u001b[0;34m=\u001b[0m\u001b[0merr\u001b[0m\u001b[0;34m.\u001b[0m\u001b[0mfilter_id\u001b[0m\u001b[0;34m)\u001b[0m\u001b[0;34m\u001b[0m\u001b[0;34m\u001b[0m\u001b[0m\n\u001b[1;32m     56\u001b[0m         \u001b[0mresult_formatters\u001b[0m\u001b[0;34m,\u001b[0m \u001b[0merror_formatters\u001b[0m\u001b[0;34m,\u001b[0m \u001b[0mnull_result_formatters\u001b[0m \u001b[0;34m=\u001b[0m \u001b[0mresponse_formatters\u001b[0m\u001b[0;34m\u001b[0m\u001b[0;34m\u001b[0m\u001b[0m\n\u001b[0;32m---> 57\u001b[0;31m         result = w3.manager.request_blocking(method_str,\n\u001b[0m\u001b[1;32m     58\u001b[0m                                              \u001b[0mparams\u001b[0m\u001b[0;34m,\u001b[0m\u001b[0;34m\u001b[0m\u001b[0;34m\u001b[0m\u001b[0m\n\u001b[1;32m     59\u001b[0m                                              \u001b[0merror_formatters\u001b[0m\u001b[0;34m,\u001b[0m\u001b[0;34m\u001b[0m\u001b[0;34m\u001b[0m\u001b[0m\n",
      "\u001b[0;32m~/Documents/trading/interest_rate_carry/venv/lib/python3.9/site-packages/web3/manager.py\u001b[0m in \u001b[0;36mrequest_blocking\u001b[0;34m(self, method, params, error_formatters, null_result_formatters)\u001b[0m\n\u001b[1;32m    185\u001b[0m         \"\"\"\n\u001b[1;32m    186\u001b[0m         \u001b[0mresponse\u001b[0m \u001b[0;34m=\u001b[0m \u001b[0mself\u001b[0m\u001b[0;34m.\u001b[0m\u001b[0m_make_request\u001b[0m\u001b[0;34m(\u001b[0m\u001b[0mmethod\u001b[0m\u001b[0;34m,\u001b[0m \u001b[0mparams\u001b[0m\u001b[0;34m)\u001b[0m\u001b[0;34m\u001b[0m\u001b[0;34m\u001b[0m\u001b[0m\n\u001b[0;32m--> 187\u001b[0;31m         return self.formatted_response(response,\n\u001b[0m\u001b[1;32m    188\u001b[0m                                        \u001b[0mparams\u001b[0m\u001b[0;34m,\u001b[0m\u001b[0;34m\u001b[0m\u001b[0;34m\u001b[0m\u001b[0m\n\u001b[1;32m    189\u001b[0m                                        \u001b[0merror_formatters\u001b[0m\u001b[0;34m,\u001b[0m\u001b[0;34m\u001b[0m\u001b[0;34m\u001b[0m\u001b[0m\n",
      "\u001b[0;32m~/Documents/trading/interest_rate_carry/venv/lib/python3.9/site-packages/web3/manager.py\u001b[0m in \u001b[0;36mformatted_response\u001b[0;34m(self, response, params, error_formatters, null_result_formatters)\u001b[0m\n\u001b[1;32m    165\u001b[0m     ) -> Any:\n\u001b[1;32m    166\u001b[0m         \u001b[0;32mif\u001b[0m \u001b[0;34m\"error\"\u001b[0m \u001b[0;32min\u001b[0m \u001b[0mresponse\u001b[0m\u001b[0;34m:\u001b[0m\u001b[0;34m\u001b[0m\u001b[0;34m\u001b[0m\u001b[0m\n\u001b[0;32m--> 167\u001b[0;31m             \u001b[0mapply_error_formatters\u001b[0m\u001b[0;34m(\u001b[0m\u001b[0merror_formatters\u001b[0m\u001b[0;34m,\u001b[0m \u001b[0mresponse\u001b[0m\u001b[0;34m)\u001b[0m\u001b[0;34m\u001b[0m\u001b[0;34m\u001b[0m\u001b[0m\n\u001b[0m\u001b[1;32m    168\u001b[0m             \u001b[0;32mraise\u001b[0m \u001b[0mValueError\u001b[0m\u001b[0;34m(\u001b[0m\u001b[0mresponse\u001b[0m\u001b[0;34m[\u001b[0m\u001b[0;34m\"error\"\u001b[0m\u001b[0;34m]\u001b[0m\u001b[0;34m)\u001b[0m\u001b[0;34m\u001b[0m\u001b[0;34m\u001b[0m\u001b[0m\n\u001b[1;32m    169\u001b[0m         \u001b[0;32melif\u001b[0m \u001b[0mresponse\u001b[0m\u001b[0;34m[\u001b[0m\u001b[0;34m'result'\u001b[0m\u001b[0;34m]\u001b[0m \u001b[0;32min\u001b[0m \u001b[0mNULL_RESPONSES\u001b[0m\u001b[0;34m:\u001b[0m\u001b[0;34m\u001b[0m\u001b[0;34m\u001b[0m\u001b[0m\n",
      "\u001b[0;32m~/Documents/trading/interest_rate_carry/venv/lib/python3.9/site-packages/web3/manager.py\u001b[0m in \u001b[0;36mapply_error_formatters\u001b[0;34m(error_formatters, response)\u001b[0m\n\u001b[1;32m     65\u001b[0m ) -> RPCResponse:\n\u001b[1;32m     66\u001b[0m     \u001b[0;32mif\u001b[0m \u001b[0merror_formatters\u001b[0m\u001b[0;34m:\u001b[0m\u001b[0;34m\u001b[0m\u001b[0;34m\u001b[0m\u001b[0m\n\u001b[0;32m---> 67\u001b[0;31m         \u001b[0mformatted_resp\u001b[0m \u001b[0;34m=\u001b[0m \u001b[0mpipe\u001b[0m\u001b[0;34m(\u001b[0m\u001b[0mresponse\u001b[0m\u001b[0;34m,\u001b[0m \u001b[0merror_formatters\u001b[0m\u001b[0;34m)\u001b[0m\u001b[0;34m\u001b[0m\u001b[0;34m\u001b[0m\u001b[0m\n\u001b[0m\u001b[1;32m     68\u001b[0m         \u001b[0;32mreturn\u001b[0m \u001b[0mformatted_resp\u001b[0m\u001b[0;34m\u001b[0m\u001b[0;34m\u001b[0m\u001b[0m\n\u001b[1;32m     69\u001b[0m     \u001b[0;32melse\u001b[0m\u001b[0;34m:\u001b[0m\u001b[0;34m\u001b[0m\u001b[0;34m\u001b[0m\u001b[0m\n",
      "\u001b[0;32m~/Documents/trading/interest_rate_carry/venv/lib/python3.9/site-packages/cytoolz/functoolz.pyx\u001b[0m in \u001b[0;36mcytoolz.functoolz.pipe\u001b[0;34m()\u001b[0m\n",
      "\u001b[0;32m~/Documents/trading/interest_rate_carry/venv/lib/python3.9/site-packages/cytoolz/functoolz.pyx\u001b[0m in \u001b[0;36mcytoolz.functoolz.c_pipe\u001b[0;34m()\u001b[0m\n",
      "\u001b[0;32m~/Documents/trading/interest_rate_carry/venv/lib/python3.9/site-packages/web3/_utils/method_formatters.py\u001b[0m in \u001b[0;36mraise_solidity_error_on_revert\u001b[0;34m(response)\u001b[0m\n\u001b[1;32m    564\u001b[0m     \u001b[0;31m# Geth case:\u001b[0m\u001b[0;34m\u001b[0m\u001b[0;34m\u001b[0m\u001b[0;34m\u001b[0m\u001b[0m\n\u001b[1;32m    565\u001b[0m     \u001b[0;32mif\u001b[0m \u001b[0;34m'message'\u001b[0m \u001b[0;32min\u001b[0m \u001b[0mresponse\u001b[0m\u001b[0;34m[\u001b[0m\u001b[0;34m'error'\u001b[0m\u001b[0;34m]\u001b[0m \u001b[0;32mand\u001b[0m \u001b[0mresponse\u001b[0m\u001b[0;34m[\u001b[0m\u001b[0;34m'error'\u001b[0m\u001b[0;34m]\u001b[0m\u001b[0;34m.\u001b[0m\u001b[0mget\u001b[0m\u001b[0;34m(\u001b[0m\u001b[0;34m'code'\u001b[0m\u001b[0;34m,\u001b[0m \u001b[0;34m''\u001b[0m\u001b[0;34m)\u001b[0m \u001b[0;34m==\u001b[0m \u001b[0;36m3\u001b[0m\u001b[0;34m:\u001b[0m\u001b[0;34m\u001b[0m\u001b[0;34m\u001b[0m\u001b[0m\n\u001b[0;32m--> 566\u001b[0;31m         \u001b[0;32mraise\u001b[0m \u001b[0mContractLogicError\u001b[0m\u001b[0;34m(\u001b[0m\u001b[0mresponse\u001b[0m\u001b[0;34m[\u001b[0m\u001b[0;34m'error'\u001b[0m\u001b[0;34m]\u001b[0m\u001b[0;34m[\u001b[0m\u001b[0;34m'message'\u001b[0m\u001b[0;34m]\u001b[0m\u001b[0;34m)\u001b[0m\u001b[0;34m\u001b[0m\u001b[0;34m\u001b[0m\u001b[0m\n\u001b[0m\u001b[1;32m    567\u001b[0m \u001b[0;34m\u001b[0m\u001b[0m\n\u001b[1;32m    568\u001b[0m     \u001b[0;31m# Geth Revert without error message case:\u001b[0m\u001b[0;34m\u001b[0m\u001b[0;34m\u001b[0m\u001b[0;34m\u001b[0m\u001b[0m\n",
      "\u001b[0;31mContractLogicError\u001b[0m: execution reverted: SafeMath: subtraction underflow"
     ]
    }
   ],
   "source": [
    "# test by pulling those values above and calling the getSupplyRate function from interest rate model\n",
    "# Interest rate model is found in the market contract, DAI:\n",
    "# https://etherscan.io/address/0xb579d2761470bba14018959d6dffcc681c09c04b#readContract\n",
    "\n",
    "# query values that can be easily gotten from the contract\n",
    "cash_prior = dai_true.functions.getCash().call()\n",
    "total_borrows_prev = dai_true.functions.totalBorrowsCurrent().call()\n",
    "total_reserves_prev = dai_true.functions.totalReserves().call()\n",
    "total_fuse_fees_prev = dai_true.functions.totalFuseFees().call()\n",
    "total_admin_fees_prev = dai_true.functions.totalAdminFees().call()\n",
    "\n",
    "reserve_factor_mant = dai_true.functions.reserveFactorMantissa().call()\n",
    "fuse_fee_mant = dai_true.functions.fuseFeeMantissa().call()\n",
    "admin_fee_mant = dai_true.functions.adminFeeMantissa().call()\n",
    "\n",
    "# query the accumulated interest since previous event\n",
    "block_delta = web3.eth.block_number- dai_true.functions.accrualBlockNumber().call()\n",
    "borrow_rate_mant = interest_rate_contract.functions.getBorrowRate(\n",
    "    cash_prior,\n",
    "    total_borrows_current,\n",
    "    total_reserves + total_fuse_fees + total_admin_fees\n",
    ").call() / 10 ** 18\n",
    "simple_interest_factor = borrow_rate_mant * block_delta\n",
    "interest_accumulated = int(total_borrows_current * simple_interest_factor)\n",
    "\n",
    "\n",
    "\n",
    "\n",
    "# add the accumulated interest to previous borrows\n",
    "total_borrows_new = int(total_borrows_current + interest_accumulated)\n",
    "total_reserves_new = int(interest_accumulated * reserve_factor_mant + total_reserves_prev)\n",
    "total_fuse_fees_new = int(interest_accumulated * fuse_fee_mant + total_fuse_fees_prev)\n",
    "total_admin_fees_new = int(interest_accumulated * admin_fee_mant + total_admin_fees_prev)\n",
    "\"\"\"\n",
    "print(\n",
    "    'prev borr', total_borrows_current, '\\n'\n",
    "    'delta', block_delta,'\\n',\n",
    "    'borrow mant', borrow_rate_mant,'\\n',\n",
    "    'simple int', simple_interest_factor,'\\n',\n",
    "    'interest_acc', interest_accumulated,'\\n',\n",
    "    'total', total_borrows,'\\n'\n",
    "     )\n",
    "\n",
    "\n",
    "\n",
    "print(get_cash_prior, total_borrows_current, total_borrows, total_reserves, total_fuse_fees, total_admin_fees, reserve_factor_mant, fuse_fee_mant, admin_fee_mant)\n",
    "print(total_borrows_current / total_borrows)\n",
    "\n",
    "\n",
    "print(cash_prior,\n",
    "     total_borrows_prev,\n",
    "     total_reserves_prev,\n",
    "     total_fuse_fees_prev,\n",
    "     total_admin_fees_prev)\n",
    "\n",
    "print(total_borrows_new,\n",
    "    total_reserves_new,\n",
    "    total_fuse_fees_new,\n",
    "    total_admin_fees_new\n",
    ")\n",
    "\"\"\"\n",
    "print('borrows', total_borrows_current, interest_accumulated)\n",
    "print('reserves',interest_accumulated, reserve_factor_mant, total_reserves_prev)\n",
    "print('fuse fee',interest_accumulated,  fuse_fee_mant, total_fuse_fees_prev)\n",
    "print('admin', interest_accumulated, admin_fee_mant, total_admin_fees_prev)\n",
    "print(\n",
    "    cash_prior,\n",
    "    total_borrows_new,\n",
    "    total_reserves_new + total_fuse_fees_new + total_admin_fees_new,\n",
    "    reserve_factor_mant + fuse_fee_mant + admin_fee_mant\n",
    ")\n",
    "\n",
    "\n",
    "\n",
    "\n",
    "\n",
    "\n",
    "\n",
    "\n",
    "\n",
    "calculated_rate_supply = interest_rate_contract.functions.getSupplyRate(\n",
    "    cash_prior,\n",
    "    total_borrows_new,\n",
    "    total_reserves_new + total_fuse_fees_new + total_admin_fees_new,\n",
    "    reserve_factor_mant + fuse_fee_mant + admin_fee_mant\n",
    ").call()\n",
    "\n",
    "queried_rate_supply = dai_true.functions.supplyRatePerBlock().call()\n",
    "\n",
    "print(f\"True: {queried_rate_supply}\\nCalculated: {calculated_rate_supply}\")\n",
    "print(f\"True: {rate_to_apy(queried_rate_supply)}\\nCalculated: {rate_to_apy(calculated_rate_supply)}\")"
   ]
  },
  {
   "cell_type": "code",
   "execution_count": null,
   "metadata": {},
   "outputs": [],
   "source": [
    "calculated_rate_borrow = interest_rate_contract.functions.getBorrowRate(\n",
    "    cash_prior,\n",
    "    total_borrows,\n",
    "    total_reserves + total_fuse_fees + total_admin_fees\n",
    ").call()\n",
    "\n",
    "# compare calculated rate with queried rate\n",
    "queried_rate_borrow = dai_true.functions.borrowRatePerBlock().call()\n",
    "\n",
    "print(f\"True: {queried_rate_borrow}\\nCalculated: {calculated_rate_borrow}\")\n",
    "print(f\"True: {rate_to_apy(queried_rate_borrow)}\\nCalculated: {rate_to_apy(calculated_rate_borrow)}\")\n",
    "\n"
   ]
  },
  {
   "cell_type": "code",
   "execution_count": 71,
   "metadata": {},
   "outputs": [
    {
     "data": {
      "text/plain": [
       "0.9999980355296056"
      ]
     },
     "execution_count": 71,
     "metadata": {},
     "output_type": "execute_result"
    }
   ],
   "source": [
    "27743615437533106936916887 / 2.7743669939151333e+25"
   ]
  },
  {
   "cell_type": "code",
   "execution_count": 54,
   "metadata": {},
   "outputs": [
    {
     "name": "stdout",
     "output_type": "stream",
     "text": [
      "16534006826133802757727581\n"
     ]
    },
    {
     "data": {
      "text/plain": [
       "16534006826133802757727581"
      ]
     },
     "execution_count": 54,
     "metadata": {},
     "output_type": "execute_result"
    }
   ],
   "source": [
    "#contract_functions(dai_true)\n",
    "underlying = dai_true.functions.underlying().call()\n",
    "underlying_contract = web3.eth.contract(address=underlying, abi=get_abi(underlying))\n",
    "print(underlying_contract.functions.balanceOf(dai_true.address).call())\n",
    "\n",
    "dai_true.functions.getCash().call()"
   ]
  },
  {
   "cell_type": "code",
   "execution_count": 55,
   "metadata": {},
   "outputs": [
    {
     "name": "stdout",
     "output_type": "stream",
     "text": [
      "0xb579D2761470BBa14018959d6dfFcc681c09c04b \n",
      "\n",
      "baseRatePerBlock\n",
      "blocksPerYear\n",
      "getBorrowRate\n",
      "getSupplyRate\n",
      "isInterestRateModel\n",
      "jumpMultiplierPerBlock\n",
      "kink\n",
      "multiplierPerBlock\n",
      "utilizationRate\n"
     ]
    }
   ],
   "source": [
    "# each market has their own interest rate model which is used to calculate the borrow and supply rates\n",
    "\n",
    "interest_rate_address = dai_true.functions.interestRateModel().call()\n",
    "print(interest_rate_address, '\\n')\n",
    "interest_rate_contract = web3.eth.contract(interest_rate_address, abi = get_abi(interest_rate_address))\n",
    "contract_functions(interest_rate_contract)\n",
    "\n",
    "interest_rate_contract.functions.utilizationRate().call()"
   ]
  }
 ],
 "metadata": {
  "kernelspec": {
   "display_name": "Python 3 (ipykernel)",
   "language": "python",
   "name": "python3"
  },
  "language_info": {
   "codemirror_mode": {
    "name": "ipython",
    "version": 3
   },
   "file_extension": ".py",
   "mimetype": "text/x-python",
   "name": "python",
   "nbconvert_exporter": "python",
   "pygments_lexer": "ipython3",
   "version": "3.9.5"
  }
 },
 "nbformat": 4,
 "nbformat_minor": 4
}
