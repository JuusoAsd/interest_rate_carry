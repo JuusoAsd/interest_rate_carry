{
 "cells": [
  {
   "cell_type": "code",
   "execution_count": 1,
   "metadata": {},
   "outputs": [],
   "source": [
    "import os\n",
    "import sys\n",
    "\n",
    "from dotenv import dotenv_values\n",
    "from web3 import Web3\n",
    "import requests\n",
    "import json\n",
    "from pprint import pprint"
   ]
  },
  {
   "cell_type": "code",
   "execution_count": 7,
   "metadata": {},
   "outputs": [],
   "source": [
    "conf = dotenv_values(dotenv_path='../.env')\n",
    "web3 = Web3(Web3.HTTPProvider(f\"https://mainnet.infura.io/v3/{conf['infura']}\"))"
   ]
  },
  {
   "cell_type": "code",
   "execution_count": 22,
   "metadata": {},
   "outputs": [],
   "source": [
    "# helper functions\n",
    "\n",
    "def get_abi(address):\n",
    "    r = requests.get(\n",
    "                (\"https://api.etherscan.io/api\"\n",
    "                    \"?module=contract\"\n",
    "                    \"&action=getabi\"\n",
    "                    f\"&address={address}\"\n",
    "                    f\"&apikey={conf['etherscan']}\")\n",
    "                    )\n",
    "        \n",
    "    return r.json()['result']\n",
    "\n",
    "def contract_functions(contract):\n",
    "    print(*contract.functions, sep='\\n')"
   ]
  },
  {
   "cell_type": "code",
   "execution_count": 33,
   "metadata": {},
   "outputs": [
    {
     "name": "stdout",
     "output_type": "stream",
     "text": [
      "_editAdminWhitelist\n",
      "_editDeployerWhitelist\n",
      "_setDeployerWhitelistEnforcement\n",
      "adminWhitelist\n",
      "bookmarkPool\n",
      "deployPool\n",
      "deployerWhitelist\n",
      "enforceDeployerWhitelist\n",
      "getAllPools\n",
      "getBookmarks\n",
      "getPoolsByAccount\n",
      "getPublicPools\n",
      "getPublicPoolsByVerification\n",
      "initialize\n",
      "owner\n",
      "poolExists\n",
      "pools\n",
      "renounceOwnership\n",
      "setPoolName\n",
      "transferOwnership\n"
     ]
    }
   ],
   "source": [
    "directory_address = '0x835482FE0532f169024d5E9410199369aAD5C77E'\n",
    "directory_implementation = '0xd662efb05e8cafe35d1558b8b5323c73e2919abd'\n",
    "directory_contract = web3.eth.contract(directory_address, abi = get_abi(directory_implementation))\n",
    "\n",
    "contract_functions(directory_contract)"
   ]
  },
  {
   "cell_type": "code",
   "execution_count": 43,
   "metadata": {},
   "outputs": [
    {
     "data": {
      "text/plain": [
       "(\"Tetranode's Pool\",\n",
       " '0x4702D39c499236A43654c54783c3f24830E247dC',\n",
       " '0x814b02C1ebc9164972D888495927fe1697F0Fb4c',\n",
       " 12149219,\n",
       " 1617221487)"
      ]
     },
     "execution_count": 43,
     "metadata": {},
     "output_type": "execute_result"
    }
   ],
   "source": [
    "pools = directory_contract.functions.getAllPools().call()\n",
    "pool = pools[6]\n",
    "pool"
   ]
  },
  {
   "cell_type": "code",
   "execution_count": 44,
   "metadata": {},
   "outputs": [
    {
     "name": "stdout",
     "output_type": "stream",
     "text": [
      "_acceptAdmin\n",
      "_acceptImplementation\n",
      "_renounceAdminRights\n",
      "_renounceFuseAdminRights\n",
      "_setPendingAdmin\n",
      "_setPendingImplementation\n",
      "admin\n",
      "adminHasRights\n",
      "comptrollerImplementation\n",
      "fuseAdminHasRights\n",
      "pendingAdmin\n",
      "pendingComptrollerImplementation\n"
     ]
    },
    {
     "data": {
      "text/plain": [
       "'0x94B2200d28932679DEF4A7d08596A229553a994E'"
      ]
     },
     "execution_count": 44,
     "metadata": {},
     "output_type": "execute_result"
    }
   ],
   "source": [
    "pool_address = pool[2]\n",
    "pool_contract = web3.eth.contract(pool_address, abi=get_abi(pool_address))\n",
    "contract_functions(pool_contract)\n",
    "\n",
    "pool_implementation= pool_contract.functions.comptrollerImplementation().call()\n",
    "pool_implementation"
   ]
  },
  {
   "cell_type": "code",
   "execution_count": 46,
   "metadata": {},
   "outputs": [
    {
     "data": {
      "text/plain": [
       "['0x989273ec41274C4227bCB878C2c26fdd3afbE70d',\n",
       " '0x558a7A68C574D83f327E7008c63A86613Ea48B4f',\n",
       " '0x325e3257286EB040AABB1128c21a55cF82e25901',\n",
       " '0x2130528060141222F0614ff80A756A3B2A24fE59',\n",
       " '0xAD1716680024F6F9AEA57Ad28b8C4Ecd2f5670CC',\n",
       " '0xdb55B77F5E8a1a41931684Cf9e4881D24E6b6CC9',\n",
       " '0x8691927a91A032c23B895130074669f52CF6b1e7',\n",
       " '0x59Bd6774C22486D9F4FAb2D448dCe4F892a9Ae25',\n",
       " '0xF6551C22276b9Bf62FaD09f6bD6Cad0264b89789',\n",
       " '0xcA56Af76B656212d768842246bF4893b56C02ABc',\n",
       " '0x1531C1a63A169aC75A2dAAe399080745fa51dE44',\n",
       " '0x185Ab80A77D362447415a5B347D7CD86ecaCC87C',\n",
       " '0xf65155C9595F99BFC193CaFF0AAb6e2a98cf68aE',\n",
       " '0xf9f0EFFE60F56e6846505501903AD047B8011C3e',\n",
       " '0xC12b58D31b97DBd7F092db5cc69ad321a0AD747E',\n",
       " '0xF317379B10D370Fec6B8103Ef2da5007d1890def',\n",
       " '0xE33928B720799127A052B65498b322A206351441',\n",
       " '0xeb37cE0DB663A742Df93E23EA7ba78016e82BE39']"
      ]
     },
     "execution_count": 46,
     "metadata": {},
     "output_type": "execute_result"
    }
   ],
   "source": [
    "pool_true = web3.eth.contract(pool_address, abi=get_abi(pool_implementation))\n",
    "markets = pool_true.functions.getAllMarkets().call()\n",
    "markets"
   ]
  },
  {
   "cell_type": "code",
   "execution_count": 53,
   "metadata": {},
   "outputs": [
    {
     "name": "stdout",
     "output_type": "stream",
     "text": [
      "_setImplementation\n",
      "admin\n",
      "adminHasRights\n",
      "delegateToImplementation\n",
      "fuseAdminHasRights\n",
      "implementation\n",
      "\n"
     ]
    }
   ],
   "source": [
    "dai = markets[0]\n",
    "dai_contract = web3.eth.contract(dai, abi=get_abi(dai))\n",
    "contract_functions(dai_contract)\n",
    "print()\n",
    "\n",
    "dai_implementation = dai_contract.functions.implementation().call()\n",
    "dai_true = web3.eth.contract(dai, abi=get_abi(dai_implementation))\n"
   ]
  },
  {
   "cell_type": "code",
   "execution_count": 54,
   "metadata": {},
   "outputs": [
    {
     "data": {
      "text/plain": [
       "41918506163315761060194183"
      ]
     },
     "execution_count": 54,
     "metadata": {},
     "output_type": "execute_result"
    }
   ],
   "source": [
    "dai_true.functions.totalBorrows().call()"
   ]
  },
  {
   "cell_type": "code",
   "execution_count": 55,
   "metadata": {},
   "outputs": [
    {
     "data": {
      "text/plain": [
       "42467555210820808105599485"
      ]
     },
     "execution_count": 55,
     "metadata": {},
     "output_type": "execute_result"
    }
   ],
   "source": [
    "dai_true.functions.totalSupply().call()"
   ]
  }
 ],
 "metadata": {
  "kernelspec": {
   "display_name": "Python 3",
   "language": "python",
   "name": "python3"
  },
  "language_info": {
   "codemirror_mode": {
    "name": "ipython",
    "version": 3
   },
   "file_extension": ".py",
   "mimetype": "text/x-python",
   "name": "python",
   "nbconvert_exporter": "python",
   "pygments_lexer": "ipython3",
   "version": "3.8.10"
  }
 },
 "nbformat": 4,
 "nbformat_minor": 4
}
